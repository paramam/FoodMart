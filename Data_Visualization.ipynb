{
 "cells": [
  {
   "cell_type": "markdown",
   "metadata": {},
   "source": [
    "<hr style=\"height:1px\">\n",
    "<hr style=\"height:3px\">\n",
    "\n",
    "#   Etsy Data Challenge : Analyzing Food-Mart Data\n",
    "\n",
    "  Question # 1 : Create Visuals to understand the Product Data Dimensions in terms of :\n",
    "\n",
    "-  #### Category of products sold\n",
    "-  #### Brand of products sold\n",
    "\n",
    "\n",
    "<hr style=\"height:1px\">\n",
    "<hr style=\"height:3px\">\n",
    "\n",
    "\n",
    "## Procedure : \n",
    "\n",
    "For this section I worked only with the **Product** and **Product Class** tables to gain information about the range of products housed in the Food Mart stores. Initial exploration reveals that there are **1560 unique products** belonging to different : \n",
    "\n",
    "- Product Family : 3 varieties (<font color='red'>Drinks</font>, <font color='blue'>Food</font> and <font color='green'>Non-Consumables</font>)\n",
    "- Product Department : 22 types\n",
    "- Product Category : 45 types\n",
    "- Brand name : 111 \n",
    "\n",
    "To visualise this information I created two different D3 plots, one from the point of view of product categories and the other for Brands.\n",
    "\n",
    "-  Figure-1 : A **Circular Dendogram** structure that shows the number of unique products housed in the stores for each Brand belonging to a particular Category. It is a modification of the following tree structure :\n",
    "\n",
    "$$ Product Family -->  Product Category --> Brands --> Number of Products  $$\n",
    "\n",
    "- The circular shape of the tree allows the entire data dimension to be viewed all at once. \n",
    "\n",
    "\n",
    "- Figure-2 : A **Bubble Chart** showing number of unique product items sold by different brands where the brands are color coded according to the family of products to which they belong\n",
    "\n",
    "To see the figures, we will need to start a local server first and then click on the links to the figures provided at the end of the notebook.\n",
    "\n",
    "\n",
    "<hr style=\"height:1px\">\n",
    "\n",
    "\n"
   ]
  },
  {
   "cell_type": "code",
   "execution_count": 1,
   "metadata": {
    "collapsed": true
   },
   "outputs": [],
   "source": [
    "# Import the necessary packages\n",
    "\n",
    "from sqlalchemy import create_engine\n",
    "import psycopg2\n",
    "import pandas as pd\n",
    "import numpy as np\n",
    "import json\n",
    "\n",
    "pd.set_option('notebook_repr_html',False)"
   ]
  },
  {
   "cell_type": "code",
   "execution_count": 2,
   "metadata": {
    "collapsed": true
   },
   "outputs": [],
   "source": [
    "# Setting up connection using SQL Alchemy : \n",
    "\n",
    "dbname = 'etsy'\n",
    "username = 'parama'\n",
    "engine = create_engine('postgres://%s@localhost/%s'%(username,dbname))"
   ]
  },
  {
   "cell_type": "code",
   "execution_count": 3,
   "metadata": {
    "collapsed": true
   },
   "outputs": [],
   "source": [
    "# Setting up connection using Psycopg2 : \n",
    "\n",
    "try:\n",
    "    conn = psycopg2.connect(database = 'etsy', user = 'parama' , password = 'pargop')\n",
    "except:\n",
    "    print 'Unable to connect'"
   ]
  },
  {
   "cell_type": "markdown",
   "metadata": {},
   "source": [
    "### Making the Circular Dendogram :\n",
    "\n",
    "I first made a new table that combines relevant information from the product and product_class table, which I call the **new_products** table that will be useful for now and also future analysis. \n",
    "\n",
    "Next I query this new table to generate a dataframe that will be easy to transform into a json object. My queries should produce a final product like this : \n",
    "\n",
    "      | product_family | product_category | brand_name | no_of_products | ncolor(red/blue/green) |  \n",
    "      \n",
    "The json file so created were now used to make a D3 plot using html coding adapted from [here](https://bl.ocks.org/mbostock/4339607).\n",
    "\n",
    "The circular dendogram has all products at its root which branches out into three product families\n",
    "\n",
    "- <font color='red'>Drinks</font>\n",
    "- <font color='blue'>Food</font>\n",
    "- <font color='green'>Non-Consumables</font>\n",
    "\n",
    "These further branch out into specific product categories unique to them. \n",
    "\n",
    "Lastly each product category branches out into the number of brands available for those products. The last node ends with circles of **specific color decided by the product family** it originated from and **specific size decided by the number of unique products** in that node. \n",
    "\n",
    "\n",
    "\n",
    ".\n"
   ]
  },
  {
   "cell_type": "code",
   "execution_count": 8,
   "metadata": {
    "collapsed": true
   },
   "outputs": [],
   "source": [
    "# Make a new table combining the information from Product and Product_Class tables using the following SQL Query:\n",
    "# To be executed from within the database\n",
    "sql_query = \"\"\" SELECT a.product_id, a.brand_name, a.product_name, b.* INTO new_product\n",
    "FROM product a INNER JOIN product_class b ON a.product_class_id = b.product_class_id; \"\"\" "
   ]
  },
  {
   "cell_type": "code",
   "execution_count": 9,
   "metadata": {
    "collapsed": true
   },
   "outputs": [],
   "source": [
    "# Read in the necessary data to make a json input file for plotting : \n",
    "# Can be run here\n",
    "sql_query = \"\"\"\n",
    "SELECT product_family, product_category, brand_name, count(product_id) AS no_of_products, \n",
    "case when product_family = 'Drink' then 'red' when product_family = 'Food' then 'blue' else 'green' end as ncolor\n",
    "    FROM new_product GROUP BY product_family, product_category, brand_name \n",
    "    ORDER BY product_family, product_category, brand_name;\n",
    "\"\"\"\n",
    "tree_data = pd.read_sql_query(sql_query,conn)"
   ]
  },
  {
   "cell_type": "code",
   "execution_count": 10,
   "metadata": {
    "collapsed": false
   },
   "outputs": [],
   "source": [
    "# Make dataframes specific to the product family\n",
    "\n",
    "drink = tree_data[tree_data.product_family=='Drink'][['product_category','brand_name','no_of_products','ncolor']]\n",
    "food = tree_data[tree_data.product_family=='Food'][['product_category','brand_name','no_of_products','ncolor']]\n",
    "nonc = tree_data[tree_data.product_family=='Non-Consumable'][['product_category','brand_name','no_of_products','ncolor']]"
   ]
  },
  {
   "cell_type": "code",
   "execution_count": 11,
   "metadata": {
    "collapsed": true
   },
   "outputs": [],
   "source": [
    "# Function to create a nested dictionary structure from the Dataframe\n",
    "\n",
    "def dict_maker(name,color,dframe): \n",
    "    d = dict()\n",
    "    d = {\"name\": name, \"ncolor\":color, \"size\": 5,  \"children\": []}\n",
    "    \n",
    "    for line in dframe.values:\n",
    "        the_parent = line[0]\n",
    "        the_child = line[1]\n",
    "        child_size = line[2]\n",
    "        ncolor = line[3]\n",
    "\n",
    "        # Make a list of keys\n",
    "        keys_list = []\n",
    "        for item in d['children']:\n",
    "            keys_list.append(item['name'])\n",
    "\n",
    "        # If 'the_parent' is NOT a key then append it\n",
    "        if not the_parent in keys_list:\n",
    "            d['children'].append({\"name\":the_parent, \"children\":[{\"name\":the_child, \"size\":child_size, \"ncolor\":ncolor}]})\n",
    "\n",
    "        # if 'the_parent' IS a key add a new child to it\n",
    "        else:\n",
    "            d['children'][keys_list.index(the_parent)]['children'].append({\"name\":the_child, \"size\":child_size, \"ncolor\":ncolor})\n",
    "    return d       "
   ]
  },
  {
   "cell_type": "code",
   "execution_count": 12,
   "metadata": {
    "collapsed": true
   },
   "outputs": [],
   "source": [
    "# Making the json file \n",
    "\n",
    "data_out = dict()\n",
    "data_out = {\"name\": 'products', \"size\": 15, \"ncolor\":\"black\", \"children\" :[]}\n",
    "\n",
    "family = ['Drinks','Food','Non-Consumable']\n",
    "tcolor = ['red','blue','green']\n",
    "tree_data = [drink,food,nonc]\n",
    "\n",
    "for index in range(3):\n",
    "    data1 = dict_maker(family[index],tcolor[index],tree_data[index])\n",
    "    data_out['children'].append(data1)\n",
    "\n",
    "# Export the final result to a json file\n",
    "with open('cat_brand.json', 'w') as outfile:\n",
    "    json.dump(data_out, outfile, indent=4, sort_keys=True, separators=(',',':'))                 \n",
    "                         "
   ]
  },
  {
   "cell_type": "markdown",
   "metadata": {},
   "source": [
    "### Making the Bubble Chart :\n",
    "\n",
    "While the circular dendogram gives a comprehensive picture of the product category and the brand names all together - it may look like a lot of information if Food Mart executives are only looking for **brand representation** in their stock. \n",
    "\n",
    "In that case the following bubble chart is more helpful.\n",
    "\n",
    "The bubbles are **color coded according to the product family** (<font color='orange'>Drinks</font>/ <font color='blue'>Food</font>/ <font color='green'>Non-Consumables</font>) to which they belong and their **sizes are representative of the number of unique products** produced by the particular brand.\n",
    "\n",
    "The bubble chart was similarly generated using an [html code](https://bl.ocks.org/mbostock/4063269) fed by a json file created using the following steps. \n",
    "\n",
    "."
   ]
  },
  {
   "cell_type": "code",
   "execution_count": 13,
   "metadata": {
    "collapsed": true
   },
   "outputs": [],
   "source": [
    "# SQL query to generate dataframe\n",
    "\n",
    "sql_query = \"\"\"\n",
    "SELECT product_family,brand_name,count(*) AS no_of_items, \n",
    "CASE WHEN product_family = 'Drink' THEN 'red' \n",
    "     WHEN product_family = 'Food' THEN 'blue' \n",
    "     ELSE 'green' END AS color FROM new_product \n",
    "     GROUP BY product_family,brand_name ORDER BY product_family,brand_name;\n",
    "\"\"\"\n",
    "tree_data = pd.read_sql_query(sql_query,conn)"
   ]
  },
  {
   "cell_type": "code",
   "execution_count": 14,
   "metadata": {
    "collapsed": true
   },
   "outputs": [],
   "source": [
    "# Function to produce nested dictionary structure\n",
    "\n",
    "def dict_maker(dframe): \n",
    "    d = dict()\n",
    "    d = {\"name\": \"products\", \"children\": []}\n",
    "    \n",
    "    for line in dframe.values:\n",
    "        the_parent = line[0]\n",
    "        the_child = line[1]\n",
    "        child_size = line[2]\n",
    "        child_color = line[3]\n",
    "\n",
    "        # Make a list of keys\n",
    "        keys_list = []\n",
    "        for item in d['children']:\n",
    "            keys_list.append(item['name'])\n",
    "\n",
    "        # If 'the_parent' is NOT a key append it\n",
    "        if not the_parent in keys_list:\n",
    "            d['children'].append({\"name\":the_parent, \"children\":[{\"name\":the_child, \"size\":child_size, \"tcolor\":child_color}]})\n",
    "\n",
    "        # if 'the_parent' IS a key add a new child to it\n",
    "        else:\n",
    "            d['children'][keys_list.index(the_parent)]['children'].append({\"name\":the_child, \"size\":child_size, \"tcolor\":child_color})\n",
    "    return d       "
   ]
  },
  {
   "cell_type": "code",
   "execution_count": 15,
   "metadata": {
    "collapsed": false
   },
   "outputs": [],
   "source": [
    "# Writing out the json file\n",
    "\n",
    "data_out= dict_maker(tree_data)\n",
    "with open('bubble_chart.json', 'w') as outfile:\n",
    "    json.dump(data_out, outfile, indent=4, sort_keys=True, separators=(',',':'))                 \n",
    "                         "
   ]
  },
  {
   "cell_type": "code",
   "execution_count": null,
   "metadata": {
    "collapsed": false
   },
   "outputs": [
    {
     "name": "stdout",
     "output_type": "stream",
     "text": [
      "Serving HTTP on 0.0.0.0 port 7000 ...\n",
      "127.0.0.1 - - [10/Aug/2016 11:03:17] \"GET /index_cir.html HTTP/1.1\" 200 -\n",
      "127.0.0.1 - - [10/Aug/2016 11:03:17] \"GET /cat_brand.json HTTP/1.1\" 200 -\n",
      "127.0.0.1 - - [10/Aug/2016 11:03:17] code 404, message File not found\n",
      "127.0.0.1 - - [10/Aug/2016 11:03:17] \"GET /favicon.ico HTTP/1.1\" 404 -\n",
      "127.0.0.1 - - [10/Aug/2016 11:04:16] \"GET /index_bubble.html HTTP/1.1\" 200 -\n",
      "127.0.0.1 - - [10/Aug/2016 11:04:16] \"GET /bubble_chart.json HTTP/1.1\" 200 -\n"
     ]
    }
   ],
   "source": [
    "# Starting the local server \n",
    "! python -m SimpleHTTPServer 7000"
   ]
  },
  {
   "cell_type": "markdown",
   "metadata": {},
   "source": [
    "## Links to Figures : \n",
    "\n",
    "-  [Circular Dendogram - How many products in each category and each brand](http://localhost:7000/index_cir.html)\n",
    " \n",
    "\n",
    "- [How many products in each brand](http://localhost:7000/index_bubble.html)\n",
    "    "
   ]
  }
 ],
 "metadata": {
  "kernelspec": {
   "display_name": "Python 2",
   "language": "python",
   "name": "python2"
  },
  "language_info": {
   "codemirror_mode": {
    "name": "ipython",
    "version": 2
   },
   "file_extension": ".py",
   "mimetype": "text/x-python",
   "name": "python",
   "nbconvert_exporter": "python",
   "pygments_lexer": "ipython2",
   "version": "2.7.11"
  }
 },
 "nbformat": 4,
 "nbformat_minor": 0
}
